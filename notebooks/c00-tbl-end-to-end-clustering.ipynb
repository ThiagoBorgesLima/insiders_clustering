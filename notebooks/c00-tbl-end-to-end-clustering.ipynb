{
 "cells": [
  {
   "cell_type": "code",
   "execution_count": 3,
   "metadata": {},
   "outputs": [],
   "source": [
    "import pandas as pd\n",
    "import numpy as np"
   ]
  },
  {
   "cell_type": "markdown",
   "metadata": {},
   "source": [
    "# PA005: High Value Customer Indentification ( Insiders )"
   ]
  },
  {
   "cell_type": "markdown",
   "metadata": {},
   "source": [
    "## 0.0 Planejamento da Solução ( IOT )"
   ]
  },
  {
   "cell_type": "markdown",
   "metadata": {},
   "source": [
    "### Input - Entrada"
   ]
  },
  {
   "cell_type": "markdown",
   "metadata": {},
   "source": [
    "1. ***Problema de Negócio***\n",
    "  - Selecionar os clientes mais valiosos para integrar um programa de Fidelização\n",
    "   \n",
    "2. ***Conjunto de Dados***\n",
    "  - Vendas de um e-commerce online, durane o período de um ano.\n"
   ]
  },
  {
   "cell_type": "markdown",
   "metadata": {},
   "source": [
    "### Output - Saída"
   ]
  },
  {
   "cell_type": "markdown",
   "metadata": {},
   "source": [
    "1. A indicação das pessoas que farão parte do programa de Insiders\n",
    "\n",
    "\n",
    "  - Lista: \n",
    "  \n",
    "              client_id | is_insider  |\n",
    "                104224  |   yes/1   \n",
    "                332131  |   no/0\n",
    "\n",
    "\n",
    "2. Relatório com as respostas das perguntas de negócio\n",
    "\n",
    "- Quem são as pessoas elegíveis para participar do programa de Insiders ?\n",
    "- Quantos clientes farão parte do grupo?\n",
    "- Quais as principais características desses clientes ?\n",
    "- Qual a porcentagem de contribuição do faturamento, vinda do Insiders ?\n",
    "- Qual a expectativa de faturamento desse grupo para os próximos meses ?\n",
    "- Quais as condições para uma pessoa ser elegível ao Insiders ?\n",
    "- Quais as condições para uma pessoa ser removida do Insiders ?\n",
    "- Qual a garantia que o programa Insiders é melhor que o restante da base ?\n",
    "- Quais ações o time de marketing pode realizar para aumentar o faturamento?\n"
   ]
  },
  {
   "cell_type": "markdown",
   "metadata": {},
   "source": [
    "### Tasks - Tarefas"
   ]
  },
  {
   "cell_type": "markdown",
   "metadata": {},
   "source": [
    "##### ***1. Quem são as pessoas elegíveis para participar do programa de Insiders ?***\n",
    "- ***O que é ser elegível? O que são clientes de maior \"valor\"?***\n",
    "\n",
    "- ***Faturamento:***\n",
    "\n",
    "        - Alto Ticket Médio.\n",
    "        - Alto LTV (Live Time Value).\n",
    "        - Baixa Recência.\n",
    "        - Alto Basket Size.\n",
    "        - Baixa Probabilidade de Churn.\n",
    "        - Previsão de LTV.\n",
    "        - Alta propensão de compra.\n",
    "- ***Custo:***\n",
    "\n",
    "        - Baixo custo de devolução\n",
    "\n",
    "- ***Experiência de compra:***\n",
    "\n",
    "        - Média alta das avaliações\n",
    "        \n",
    "\n",
    "    \n",
    "##### ***2. Quantos clientes farão parte do grupo?***\n",
    "\n",
    "\n",
    "        - Número total de clientes\n",
    "        - % do grupo de Insiders\n",
    "\n",
    "##### ***3. Quais as principais características desses clientes ?***\n",
    "- ***Escrever características do cliente:***\n",
    "\n",
    "        - Idade\n",
    "        - Localização\n",
    "- ***Escrever características do consumo:***\n",
    "\n",
    "        - Atributos de clusterização\n",
    "        \n",
    "\n",
    "##### ***4. Qual a porcentagem de contribuição do faturamento, vinda do Insiders ?***\n",
    "\n",
    "- ***Faturamento total do ano***\n",
    "\n",
    "- ***Faturamento do grupo Insiders***\n",
    "\n",
    "\n",
    "##### 5. ***Qual a expectativa de faturamento desse grupo para os próximos meses ?***\n",
    "\n",
    "- ***LTV do grupo Insiders***\n",
    "\n",
    "- ***Análise de Cohort*** \n",
    "\n",
    "##### 6. ***Quais as condições para uma pessoa ser elegível ao Insiders ?***\n",
    "\n",
    "- ***Definir periodicidade ( 1 mês, 3 meses )***\n",
    "\n",
    "- ***A pessoa precisa ser similar ou parecido com uma pessoa do grupo***\n",
    "\n",
    "##### 7. ***Quais as condições para uma pessoa ser removida do Insiders ?***\n",
    "\n",
    "- ***Definir periodicidade ( 1 mês, 3 meses )***\n",
    "\n",
    "- ***A pessoa precisa ser dissimilar ou não parecida com uma pessoa do grupo***\n",
    "\n",
    "##### 8. ***Qual a garantia que o programa Insiders é melhor que o restante da base ?***\n",
    "\n",
    "- ***Teste A/B***\n",
    "\n",
    "- ***Teste de Hipóteses***\n",
    "\n",
    "##### 9. ***Quais ações o time de marketing pode realizar para aumentar o faturamento?***\n",
    "\n",
    "- ***Desconto***\n",
    "- ***Preferência de Compra***\n",
    "- ***Frente***\n",
    "- ***Visita***\n"
   ]
  },
  {
   "cell_type": "markdown",
   "metadata": {},
   "source": [
    "## Benchmark de Soluções\n",
    "### 1. Desk Research"
   ]
  },
  {
   "cell_type": "code",
   "execution_count": null,
   "metadata": {},
   "outputs": [],
   "source": []
  },
  {
   "cell_type": "code",
   "execution_count": null,
   "metadata": {},
   "outputs": [],
   "source": []
  },
  {
   "cell_type": "code",
   "execution_count": null,
   "metadata": {},
   "outputs": [],
   "source": []
  },
  {
   "cell_type": "code",
   "execution_count": null,
   "metadata": {},
   "outputs": [],
   "source": []
  }
 ],
 "metadata": {
  "kernelspec": {
   "display_name": "Python 3.10.4 ('ins_clustenv': venv)",
   "language": "python",
   "name": "python3"
  },
  "language_info": {
   "codemirror_mode": {
    "name": "ipython",
    "version": 3
   },
   "file_extension": ".py",
   "mimetype": "text/x-python",
   "name": "python",
   "nbconvert_exporter": "python",
   "pygments_lexer": "ipython3",
   "version": "3.10.4"
  },
  "orig_nbformat": 4,
  "vscode": {
   "interpreter": {
    "hash": "f0fdcbedca795ffb30cc6c2d55028e9ca1e3226a02df4c6465ca0b02399e4bfb"
   }
  }
 },
 "nbformat": 4,
 "nbformat_minor": 2
}
